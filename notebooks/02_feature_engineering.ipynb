{
 "cells": [
  {
   "cell_type": "markdown",
   "id": "1d16b355",
   "metadata": {},
   "source": [
    "# Feature Engineering"
   ]
  },
  {
   "cell_type": "code",
   "execution_count": null,
   "id": "579d06de",
   "metadata": {},
   "outputs": [
    {
     "name": "stdout",
     "output_type": "stream",
     "text": [
      "Dataset buat model disimpan\n",
      "                 customer_unique_id  order_count  total_payment  \\\n",
      "0  0000366f3b9a7992bf8c76cfdf3221e2            1         141.90   \n",
      "1  0000b849f77a49e4a4ce2b2a4ca5be3f            1          27.19   \n",
      "2  0000f46a3911fa3c0805444483337064            1          86.22   \n",
      "3  0000f6ccb0745a6a4b88665a16c9f078            1          43.62   \n",
      "4  0004aac84e0df4da2b147fca70cf8255            1         196.89   \n",
      "\n",
      "   avg_review_score  avg_delivery_days  days_since_last_purchase  churn  \n",
      "0               5.0                6.0                       160      0  \n",
      "1               4.0                2.0                       163      0  \n",
      "2               3.0               25.0                       585      1  \n",
      "3               4.0               20.0                       369      1  \n",
      "4               5.0               13.0                       336      1  \n"
     ]
    }
   ],
   "source": [
    "import pandas as pd\n",
    "import numpy as np\n",
    "\n",
    "df_full = pd.read_csv('df_full.csv')\n",
    "\n",
    "df_full['order_purchase_timestamp'] = pd.to_datetime(df_full['order_purchase_timestamp'])\n",
    "last_purchase = df_full.groupby('customer_unique_id')['order_purchase_timestamp'].max().reset_index()\n",
    "last_purchase['days_since_last_purchase'] = (df_full['order_purchase_timestamp'].max() - last_purchase['order_purchase_timestamp']).dt.days\n",
    "last_purchase['churn'] = (last_purchase['days_since_last_purchase'] > 180).astype(int)\n",
    "\n",
    "# Frekuensi order per customer\n",
    "order_count = df_full.groupby('customer_unique_id')['order_id'].nunique().reset_index(name='order_count')\n",
    "order_count.columns = ['customer_unique_id', 'order_count']\n",
    "\n",
    "# Total Pembayaran per customer\n",
    "total_payment = df_full.groupby('customer_unique_id')['payment_value'].sum().reset_index()\n",
    "total_payment.columns = ['customer_unique_id', 'total_payment']\n",
    "\n",
    "# Rata - rata score review per customer \n",
    "avg_review = df_full.groupby('customer_unique_id')['review_score'].mean().reset_index()\n",
    "avg_review.columns = ['customer_unique_id', 'avg_review_score']\n",
    "\n",
    "# Rata-rata waktu pengiriman per customer\n",
    "df_full['order_delivered_customer_date'] = pd.to_datetime(df_full['order_delivered_customer_date'], errors='coerce')\n",
    "df_full['order_approved_at'] = pd.to_datetime(df_full['order_approved_at'], errors='coerce')\n",
    "df_full['delivery_days'] = (df_full['order_delivered_customer_date'] - df_full['order_approved_at']).dt.days\n",
    "avg_delivery = df_full.groupby('customer_unique_id')['delivery_days'].mean().reset_index()\n",
    "avg_delivery.columns = ['customer_unique_id', 'avg_delivery_days']\n",
    "\n",
    "# Churn\n",
    "df_full['order_purchase_timestamp'] = pd.to_datetime(df_full['order_purchase_timestamp'])\n",
    "last_purchase = df_full.groupby('customer_unique_id')['order_purchase_timestamp'].max().reset_index()\n",
    "last_purchase['days_since_last_purchase'] = (df_full['order_purchase_timestamp'].max() - last_purchase['order_purchase_timestamp']).dt.days\n",
    "last_purchase['churn'] = (last_purchase['days_since_last_purchase'] > 180).astype(int)\n",
    "\n",
    "# Menggabungkan semua fitur\n",
    "features = order_count.merge(total_payment, on='customer_unique_id', how='left') \\\n",
    "                      .merge(avg_review, on='customer_unique_id', how='left') \\\n",
    "                      .merge(avg_delivery, on='customer_unique_id', how='left') \\\n",
    "                      .merge(last_purchase[['customer_unique_id', 'days_since_last_purchase', 'churn']], on='customer_unique_id', how='left')\n",
    "                      \n",
    "# Membersihkan data\n",
    "features = features.dropna()\n",
    "features = features[features['avg_delivery_days'] >= 0] # Membuang anomali\n",
    "\n",
    "features.to_csv('../data/processed/churn_features.csv', index=False)\n",
    "print('Dataset buat model disimpan')\n",
    "print(features.head())"
   ]
  }
 ],
 "metadata": {
  "kernelspec": {
   "display_name": "venv (3.10.0)",
   "language": "python",
   "name": "python3"
  },
  "language_info": {
   "codemirror_mode": {
    "name": "ipython",
    "version": 3
   },
   "file_extension": ".py",
   "mimetype": "text/x-python",
   "name": "python",
   "nbconvert_exporter": "python",
   "pygments_lexer": "ipython3",
   "version": "3.10.0"
  }
 },
 "nbformat": 4,
 "nbformat_minor": 5
}
